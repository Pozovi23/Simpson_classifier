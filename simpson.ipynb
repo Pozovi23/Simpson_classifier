{
 "cells": [
  {
   "cell_type": "code",
   "execution_count": 1,
   "metadata": {},
   "outputs": [
    {
     "name": "stdout",
     "output_type": "stream",
     "text": [
      "['data/simpsons_dataset/bart_simpson/pic_0273.jpg', 'data/simpsons_dataset/bart_simpson/pic_0662.jpg', 'data/simpsons_dataset/bart_simpson/pic_1223.jpg']\n",
      "['data/simpsons_dataset/charles_montgomery_burns/pic_0549.jpg', 'data/simpsons_dataset/charles_montgomery_burns/pic_0559.jpg', 'data/simpsons_dataset/charles_montgomery_burns/pic_0647.jpg']\n",
      "['data/simpsons_dataset/homer_simpson/pic_0591.jpg', 'data/simpsons_dataset/homer_simpson/pic_1444.jpg', 'data/simpsons_dataset/homer_simpson/pic_1659.jpg']\n",
      "['data/simpsons_dataset/homer_simpson/pic_0599.jpg', 'data/simpsons_dataset/homer_simpson/pic_1299.jpg', 'data/simpsons_dataset/homer_simpson/pic_2013.jpg']\n",
      "['data/simpsons_dataset/milhouse_van_houten/pic_0387.jpg', 'data/simpsons_dataset/milhouse_van_houten/pic_0635.jpg', 'data/simpsons_dataset/milhouse_van_houten/pic_0808.jpg']\n",
      "['data/simpsons_dataset/moe_szyslak/pic_0283.jpg', 'data/simpsons_dataset/moe_szyslak/pic_0341.jpg', 'data/simpsons_dataset/moe_szyslak/pic_1202.jpg']\n",
      "['data/simpsons_dataset/simpsons_dataset/abraham_grampa_simpson', 'data/simpsons_dataset/simpsons_dataset/chief_wiggum', 'data/simpsons_dataset/simpsons_dataset/milhouse_van_houten', 'data/simpsons_dataset/simpsons_dataset/sideshow_bob']\n",
      "['data/simpsons_dataset/simpsons_dataset/agnes_skinner', 'data/simpsons_dataset/simpsons_dataset/cletus_spuckler', 'data/simpsons_dataset/simpsons_dataset/rainier_wolfcastle', 'data/simpsons_dataset/simpsons_dataset/sideshow_mel']\n",
      "['data/simpsons_dataset/simpsons_dataset/barney_gumble', 'data/simpsons_dataset/simpsons_dataset/carl_carlson', 'data/simpsons_dataset/simpsons_dataset/selma_bouvier']\n",
      "['data/simpsons_dataset/simpsons_dataset/bart_simpson', 'data/simpsons_dataset/simpsons_dataset/charles_montgomery_burns', 'data/simpsons_dataset/simpsons_dataset/krusty_the_clown', 'data/simpsons_dataset/simpsons_dataset/lisa_simpson', 'data/simpsons_dataset/simpsons_dataset/marge_simpson', 'data/simpsons_dataset/simpsons_dataset/principal_skinner']\n",
      "['data/simpsons_dataset/simpsons_dataset/comic_book_guy', 'data/simpsons_dataset/simpsons_dataset/edna_krabappel', 'data/simpsons_dataset/simpsons_dataset/kent_brockman']\n",
      "['data/simpsons_dataset/simpsons_dataset/disco_stu', 'data/simpsons_dataset/simpsons_dataset/fat_tony', 'data/simpsons_dataset/simpsons_dataset/gil', 'data/simpsons_dataset/simpsons_dataset/miss_hoover', 'data/simpsons_dataset/simpsons_dataset/otto_mann', 'data/simpsons_dataset/simpsons_dataset/troy_mcclure']\n",
      "['data/simpsons_dataset/simpsons_dataset/martin_prince', 'data/simpsons_dataset/simpsons_dataset/professor_john_frink', 'data/simpsons_dataset/simpsons_dataset/snake_jailbird']\n",
      "['data/simpsons_dataset/waylon_smithers/pic_0038.jpg', 'data/simpsons_dataset/waylon_smithers/pic_0045.jpg', 'data/simpsons_dataset/waylon_smithers/pic_0051.jpg']\n",
      "['data/simpsons_dataset/bart_simpson/pic_0273.jpg', 'data/simpsons_dataset/bart_simpson/pic_0662.jpg', 'data/simpsons_dataset/bart_simpson/pic_1223.jpg']\n",
      "['data/simpsons_dataset/charles_montgomery_burns/pic_0549.jpg', 'data/simpsons_dataset/charles_montgomery_burns/pic_0559.jpg', 'data/simpsons_dataset/charles_montgomery_burns/pic_0647.jpg']\n",
      "['data/simpsons_dataset/homer_simpson/pic_0591.jpg', 'data/simpsons_dataset/homer_simpson/pic_1444.jpg', 'data/simpsons_dataset/homer_simpson/pic_1659.jpg']\n",
      "['data/simpsons_dataset/homer_simpson/pic_0599.jpg', 'data/simpsons_dataset/homer_simpson/pic_1299.jpg', 'data/simpsons_dataset/homer_simpson/pic_2013.jpg']\n",
      "['data/simpsons_dataset/milhouse_van_houten/pic_0387.jpg', 'data/simpsons_dataset/milhouse_van_houten/pic_0635.jpg', 'data/simpsons_dataset/milhouse_van_houten/pic_0808.jpg']\n",
      "['data/simpsons_dataset/moe_szyslak/pic_0283.jpg', 'data/simpsons_dataset/moe_szyslak/pic_0341.jpg', 'data/simpsons_dataset/moe_szyslak/pic_1202.jpg']\n",
      "['data/simpsons_dataset/simpsons_dataset/abraham_grampa_simpson', 'data/simpsons_dataset/simpsons_dataset/chief_wiggum', 'data/simpsons_dataset/simpsons_dataset/milhouse_van_houten', 'data/simpsons_dataset/simpsons_dataset/sideshow_bob']\n",
      "['data/simpsons_dataset/simpsons_dataset/agnes_skinner', 'data/simpsons_dataset/simpsons_dataset/cletus_spuckler', 'data/simpsons_dataset/simpsons_dataset/rainier_wolfcastle', 'data/simpsons_dataset/simpsons_dataset/sideshow_mel']\n",
      "['data/simpsons_dataset/simpsons_dataset/barney_gumble', 'data/simpsons_dataset/simpsons_dataset/carl_carlson', 'data/simpsons_dataset/simpsons_dataset/selma_bouvier']\n",
      "['data/simpsons_dataset/simpsons_dataset/bart_simpson', 'data/simpsons_dataset/simpsons_dataset/charles_montgomery_burns', 'data/simpsons_dataset/simpsons_dataset/krusty_the_clown', 'data/simpsons_dataset/simpsons_dataset/lisa_simpson', 'data/simpsons_dataset/simpsons_dataset/marge_simpson', 'data/simpsons_dataset/simpsons_dataset/principal_skinner']\n",
      "['data/simpsons_dataset/simpsons_dataset/comic_book_guy', 'data/simpsons_dataset/simpsons_dataset/edna_krabappel', 'data/simpsons_dataset/simpsons_dataset/kent_brockman']\n",
      "['data/simpsons_dataset/simpsons_dataset/disco_stu', 'data/simpsons_dataset/simpsons_dataset/fat_tony', 'data/simpsons_dataset/simpsons_dataset/gil', 'data/simpsons_dataset/simpsons_dataset/miss_hoover', 'data/simpsons_dataset/simpsons_dataset/otto_mann', 'data/simpsons_dataset/simpsons_dataset/troy_mcclure']\n",
      "['data/simpsons_dataset/simpsons_dataset/martin_prince', 'data/simpsons_dataset/simpsons_dataset/professor_john_frink', 'data/simpsons_dataset/simpsons_dataset/snake_jailbird']\n",
      "['data/simpsons_dataset/waylon_smithers/pic_0038.jpg', 'data/simpsons_dataset/waylon_smithers/pic_0045.jpg', 'data/simpsons_dataset/waylon_smithers/pic_0051.jpg']\n"
     ]
    }
   ],
   "source": [
    "from check_data import find_duplicates\n",
    "\n",
    "find_duplicates()"
   ]
  }
 ],
 "metadata": {
  "kernelspec": {
   "display_name": "venv",
   "language": "python",
   "name": "python3"
  },
  "language_info": {
   "codemirror_mode": {
    "name": "ipython",
    "version": 3
   },
   "file_extension": ".py",
   "mimetype": "text/x-python",
   "name": "python",
   "nbconvert_exporter": "python",
   "pygments_lexer": "ipython3",
   "version": "3.12.3"
  }
 },
 "nbformat": 4,
 "nbformat_minor": 2
}
